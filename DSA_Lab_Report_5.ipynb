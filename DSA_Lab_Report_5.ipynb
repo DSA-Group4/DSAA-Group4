{
  "nbformat": 4,
  "nbformat_minor": 0,
  "metadata": {
    "colab": {
      "provenance": []
    },
    "kernelspec": {
      "name": "python3",
      "display_name": "Python 3"
    },
    "language_info": {
      "name": "python"
    }
  },
  "cells": [
    {
      "cell_type": "code",
      "execution_count": 4,
      "metadata": {
        "id": "vVlvGrpRGXRV",
        "colab": {
          "base_uri": "https://localhost:8080/"
        },
        "outputId": "4f122a16-850a-4d3a-c781-ab00f33cad54"
      },
      "outputs": [
        {
          "output_type": "stream",
          "name": "stdout",
          "text": [
            "The sum of the numbers is:  55\n",
            "New number has been added to the list [1, 2, 3, 4, 5, 6, 7, 8, 9, 10, 24]\n",
            "New list after inserting value before the second index:  [1, 12, 2, 3, 4, 5, 6, 7, 8, 9, 10, 24]\n",
            "The reversed numbers is:  [1, 2, 3, 4, 5]\n",
            "length of numbers is:  5\n"
          ]
        }
      ],
      "source": [
        "numbers = [1, 2, 3, 4, 5, 6, 7, 8, 9, 10]\n",
        "sum_numbers = sum(numbers)\n",
        "print(\"The sum of the numbers is: \", sum_numbers)\n",
        "\n",
        "numbers.append(24)\n",
        "print(\"New number has been added to the list\", numbers)\n",
        "\n",
        "numbers.insert(1, 12)\n",
        "print(\"New list after inserting value before the second index: \", numbers)\n",
        "\n",
        "numbers = [5, 4, 3, 2, 1]\n",
        "numbers.reverse()\n",
        "length = len(numbers)\n",
        "print(\"The reversed numbers is: \",numbers)\n",
        "print(\"Length of numbers is: \", length)\n"
      ]
    }
  ]
}