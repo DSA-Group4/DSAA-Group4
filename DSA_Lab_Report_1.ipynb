{
  "nbformat": 4,
  "nbformat_minor": 0,
  "metadata": {
    "colab": {
      "provenance": []
    },
    "kernelspec": {
      "name": "python3",
      "display_name": "Python 3"
    },
    "language_info": {
      "name": "python"
    }
  },
  "cells": [
    {
      "cell_type": "code",
      "source": [
        "import math\n",
        "\n",
        "class Polygon:\n",
        "\n",
        "  def __init__(self, name, num_sides, area):\n",
        "    self.name = name\n",
        "    self.num_sides = num_sides\n",
        "    self.area = area\n",
        "\n",
        "  def set_name(self, name):\n",
        "    self.name = name\n",
        "\n",
        "  def get_name(self):\n",
        "    return self.name\n",
        "\n",
        "  def set_num_sides(self, num_sides):\n",
        "    self.num_sides = num_sides\n",
        "\n",
        "  def get_num_sides(self):\n",
        "    return self.num_sides\n",
        "\n",
        "  def set_area(self, area):\n",
        "    self.area = area\n",
        "\n",
        "  def get_area(self):\n",
        "    return self.area\n",
        "\n",
        "  def initialize(self, num_sides):\n",
        "\n",
        "    self.polygon_db = {\n",
        "      3: \"Triangle\",\n",
        "      4: \"Square\",\n",
        "      5: \"Pentagon\",\n",
        "      6: \"Hexagon\",\n",
        "      7: \"Heptagon\",\n",
        "      8: \"Octagon\",\n",
        "      9: \"Nonagon\",\n",
        "      10: \"Decagon\",\n",
        "      11: \"Hendecagon\",\n",
        "      12: \"Dodecagon\"\n",
        "    }\n",
        "\n",
        "    if num_sides in self.polygon_db:\n",
        "      name = self.polygon_db[num_sides]\n",
        "      self.set_name(name)\n",
        "\n",
        "    else:\n",
        "      print(\"Invalid number of sides\")\n",
        "\n",
        "  def get_info(self):\n",
        "    base = float(input(\"Enter base: \"))\n",
        "    height = float(input(\"Enter height: \"))\n",
        "    sides = int(input(\"Enter number of sides: \"))\n",
        "    self.initialize(sides)\n",
        "    area = base * height / 2\n",
        "    self.set_area(area)\n",
        "    print(self.get_name(), \"with\", sides, \"sides has area\", self.get_area())\n",
        "\n",
        "polygon = Polygon(\"\", 0, 0)\n",
        "polygon.get_info()"
      ],
      "metadata": {
        "colab": {
          "base_uri": "https://localhost:8080/"
        },
        "id": "NJeMFOFh82JB",
        "outputId": "9dfb7a0c-a252-4cb8-8336-2039a391bbd0"
      },
      "execution_count": 20,
      "outputs": [
        {
          "output_type": "stream",
          "name": "stdout",
          "text": [
            "Enter base: 5\n",
            "Enter height: 5\n",
            "Enter number of sides: 6\n",
            "Hexagon with 6 sides has area 12.5\n"
          ]
        }
      ]
    }
  ]
}