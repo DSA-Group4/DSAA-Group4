{
  "nbformat": 4,
  "nbformat_minor": 0,
  "metadata": {
    "colab": {
      "provenance": []
    },
    "kernelspec": {
      "name": "python3",
      "display_name": "Python 3"
    },
    "language_info": {
      "name": "python"
    }
  },
  "cells": [
    {
      "cell_type": "code",
      "source": [
        "class Node:\n",
        "    def __init__(self, data):\n",
        "        self.data = data\n",
        "        self.next = None\n",
        "\n",
        "class LinkedList:\n",
        "    def __init__(self):\n",
        "        self.head = None\n",
        "        self.tail = None\n",
        "\n",
        "    def insert(self, new_data):\n",
        "        new_node = Node(new_data)\n",
        "        if self.head is None:\n",
        "            self.head = new_node\n",
        "            self.tail = new_node\n",
        "        else:\n",
        "            self.tail.next = new_node\n",
        "            self.tail = new_node\n",
        "\n",
        "primes = [2, 3, 5, 7, 11, 13, 17, 19]\n",
        "list = LinkedList()\n",
        "\n",
        "for prime in primes:\n",
        "    list.insert(prime)\n",
        "\n",
        "numb = list.head\n",
        "prime_numbers = []\n",
        "while numb:\n",
        "    prime_numbers.append(str(numb.data))\n",
        "    numb = numb.next\n",
        "\n",
        "print(\"Prime numbers are:\", ', '.join(prime_numbers))\n",
        "print('Head:', llist.head.data)\n",
        "print('Tail:', llist.tail.data)"
      ],
      "metadata": {
        "colab": {
          "base_uri": "https://localhost:8080/"
        },
        "id": "QrG_coXYHTe_",
        "outputId": "db309467-ee18-42ac-8f4b-4353f8819da3"
      },
      "execution_count": 20,
      "outputs": [
        {
          "output_type": "stream",
          "name": "stdout",
          "text": [
            "Prime numbers are: 2, 3, 5, 7, 11, 13, 17, 19\n",
            "Head: 2\n",
            "Tail: 19\n"
          ]
        }
      ]
    }
  ]
}