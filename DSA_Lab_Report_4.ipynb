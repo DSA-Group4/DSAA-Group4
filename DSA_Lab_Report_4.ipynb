{
  "nbformat": 4,
  "nbformat_minor": 0,
  "metadata": {
    "colab": {
      "provenance": []
    },
    "kernelspec": {
      "name": "python3",
      "display_name": "Python 3"
    },
    "language_info": {
      "name": "python"
    }
  },
  "cells": [
    {
      "cell_type": "code",
      "source": [
        "A = [1, 2, 3, 4, 5, 1]\n",
        "checked_set = set()\n",
        "result = None\n",
        "\n",
        "for num in A:\n",
        "    if num in checked_set:\n",
        "        result = num\n",
        "        break\n",
        "    checked_set.add(num)\n",
        "\n",
        "print(\"The repeated integer is:\", result)"
      ],
      "metadata": {
        "colab": {
          "base_uri": "https://localhost:8080/"
        },
        "id": "t0MHjxExthZ6",
        "outputId": "edf47c9f-a290-445f-9f44-316873f94c05"
      },
      "execution_count": 9,
      "outputs": [
        {
          "output_type": "stream",
          "name": "stdout",
          "text": [
            "The repeated integer is: 1\n"
          ]
        }
      ]
    },
    {
      "cell_type": "code",
      "source": [
        "encrypted_text = \"\"\n",
        "user_input = input(\"Enter text:\")\n",
        "\n",
        "for char in user_input:\n",
        "    if char.islower():\n",
        "        encrypted_text += chr((ord(char) - ord('a') - 3 + 26) % 26 + ord('a'))\n",
        "    elif char.isupper():\n",
        "        encrypted_text += chr((ord(char) - ord('A') - 3 + 26) % 26 + ord('A'))\n",
        "    else:\n",
        "        encrypted_text += char\n",
        "\n",
        "print(\"Original Text: \" + user_input)\n",
        "print(\"Encrypted Text: \" + encrypted_text)"
      ],
      "metadata": {
        "colab": {
          "base_uri": "https://localhost:8080/"
        },
        "id": "GBHLAMYRlWvv",
        "outputId": "a817b122-b80f-448d-f15c-f2fbf113ebe9"
      },
      "execution_count": 5,
      "outputs": [
        {
          "output_type": "stream",
          "name": "stdout",
          "text": [
            "Enter text:DSAA Lab Group 4\n",
            "Original Text: DSAA Lab Group 4\n",
            "Encrypted Text: APXX Ixy Dolrm 4\n"
          ]
        }
      ]
    }
  ]
}