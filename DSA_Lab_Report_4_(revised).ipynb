{
  "nbformat": 4,
  "nbformat_minor": 0,
  "metadata": {
    "colab": {
      "provenance": []
    },
    "kernelspec": {
      "name": "python3",
      "display_name": "Python 3"
    },
    "language_info": {
      "name": "python"
    }
  },
  "cells": [
    {
      "cell_type": "code",
      "source": [
        "encrypted_text = []\n",
        "user_input = input(\"Enter text:\")\n",
        "\n",
        "for char in user_input:\n",
        "    if char.islower():\n",
        "        encrypted_text.append(chr((ord(char) - ord('a') + 5 + 26) % 26 + ord('a')))\n",
        "    elif char.isupper():\n",
        "        encrypted_text.append(chr((ord(char) - ord('A') + 5 + 26) % 26 + ord('A')))\n",
        "    else:\n",
        "        encrypted_text.append(char)\n",
        "\n",
        "print(\"Original Text: \" + user_input)\n",
        "print(\"Encrypted Text: \" + \"\".join(encrypted_text))"
      ],
      "metadata": {
        "colab": {
          "base_uri": "https://localhost:8080/"
        },
        "id": "bTEUajOtZ5c0",
        "outputId": "6c5cf142-e37c-4c9e-c7ed-182f0b09668b"
      },
      "execution_count": 32,
      "outputs": [
        {
          "output_type": "stream",
          "name": "stdout",
          "text": [
            "Enter text:Jeus14\n",
            "Original Text: Jeus14\n",
            "Encrypted Text: Ojzx14\n"
          ]
        }
      ]
    }
  ]
}