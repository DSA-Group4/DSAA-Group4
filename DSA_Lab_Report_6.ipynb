{
  "nbformat": 4,
  "nbformat_minor": 0,
  "metadata": {
    "colab": {
      "provenance": []
    },
    "kernelspec": {
      "name": "python3",
      "display_name": "Python 3"
    },
    "language_info": {
      "name": "python"
    }
  },
  "cells": [
    {
      "cell_type": "markdown",
      "source": [
        "1st Method: Given the set of element {a,b,c,d,e, f } stored in a list, show the final state of the list, assuming we use the move-to-front heuristic and access the elements according to the following sequence: (a,b,c,d,e, f ,a,c, f ,b,d,e)."
      ],
      "metadata": {
        "id": "Qgmi1rOTguIF"
      }
    },
    {
      "cell_type": "code",
      "source": [
        "class Node:\n",
        "    def __init__(self, data):\n",
        "        self.data = data\n",
        "        self.next = None\n",
        "\n",
        "class MoveToFrontLinkedList:\n",
        "    def __init__(self, elements):\n",
        "        self.head = None\n",
        "        self.initialize_list(elements)\n",
        "\n",
        "    def initialize_list(self, elements):\n",
        "        for element in elements:\n",
        "            self.append(element)\n",
        "\n",
        "    def append(self, data):\n",
        "        new_node = Node(data)\n",
        "        new_node.next = self.head\n",
        "        self.head = new_node\n",
        "\n",
        "    def move_to_front(self, key):\n",
        "        current = self.head\n",
        "        prev = None\n",
        "\n",
        "        while current and current.data != key:\n",
        "            prev = current\n",
        "            current = current.next\n",
        "\n",
        "        if current:\n",
        "            if prev:\n",
        "                prev.next = current.next\n",
        "                current.next = self.head\n",
        "                self.head = current\n",
        "\n",
        "    def display(self):\n",
        "        current = self.head\n",
        "        while current:\n",
        "            print(current.data, end=\" \")\n",
        "            current = current.next\n",
        "        print()\n",
        "\n",
        "elements = ['a', 'b', 'c', 'd', 'e', 'f']\n",
        "\n",
        "access_sequence = ['a', 'b', 'c', 'd', 'e', 'f', 'a', 'c', 'f', 'b', 'd', 'e']\n",
        "\n",
        "linked_list = MoveToFrontLinkedList(elements)\n",
        "for item in access_sequence:\n",
        "    linked_list.move_to_front(item)\n",
        "\n",
        "print(\"Final State of the Linked List:\")\n",
        "linked_list.display()"
      ],
      "metadata": {
        "colab": {
          "base_uri": "https://localhost:8080/"
        },
        "id": "HzG1p8URgtZV",
        "outputId": "aea3f58b-376b-4b69-f6ed-42eda24a61b4"
      },
      "execution_count": 6,
      "outputs": [
        {
          "output_type": "stream",
          "name": "stdout",
          "text": [
            "Final State of the Linked List:\n",
            "e d b f c a \n"
          ]
        }
      ]
    },
    {
      "cell_type": "markdown",
      "source": [
        "2nd Method: Write a Python program to create a doubly linked list, append some items, count the number of items, insert a new item in front, and print in reverse order"
      ],
      "metadata": {
        "id": "p0ML112ygqb8"
      }
    },
    {
      "cell_type": "code",
      "source": [
        "class Node:\n",
        "    def __init__(self, data):\n",
        "        self.data = data\n",
        "        self.next = None\n",
        "        self.prev = None\n",
        "\n",
        "class DoublyLinkedList:\n",
        "    def __init__(self):\n",
        "        self.head = None\n",
        "\n",
        "    def append(self, data):\n",
        "        new_node = Node(data)\n",
        "        if not self.head:\n",
        "            self.head = new_node\n",
        "        else:\n",
        "            current = self.head\n",
        "            while current.next:\n",
        "                current = current.next\n",
        "            current.next = new_node\n",
        "            new_node.prev = current\n",
        "\n",
        "    def count_items(self):\n",
        "        count = 0\n",
        "        current = self.head\n",
        "        while current:\n",
        "            count += 1\n",
        "            current = current.next\n",
        "        return count\n",
        "\n",
        "    def insert_at_front(self, data):\n",
        "        new_node = Node(data)\n",
        "        if not self.head:\n",
        "            self.head = new_node\n",
        "        else:\n",
        "            new_node.next = self.head\n",
        "            self.head.prev = new_node\n",
        "            self.head = new_node\n",
        "\n",
        "    def print_reverse(self):\n",
        "        current = self.head\n",
        "        while current.next:\n",
        "            current = current.next\n",
        "\n",
        "        while current:\n",
        "            print(current.data, end=\" \")\n",
        "            current = current.prev\n",
        "        print()\n",
        "\n",
        "dll = DoublyLinkedList()\n",
        "\n",
        "dll.append(1)\n",
        "dll.append(2)\n",
        "dll.append(3)\n",
        "\n",
        "print(\"Appended items in a reverse order:\")\n",
        "dll.print_reverse()\n",
        "\n",
        "print(f\"Number of items: {dll.count_items()}\")\n",
        "\n",
        "dll.insert_at_front(0)\n",
        "\n",
        "print(\"\\nNew item inserted:\")\n",
        "dll.print_reverse()\n",
        "\n",
        "print(f\"Number of items: {dll.count_items()}\")"
      ],
      "metadata": {
        "colab": {
          "base_uri": "https://localhost:8080/"
        },
        "id": "yWVtKSONgfyo",
        "outputId": "494be9aa-8159-45e8-9759-076289753f30"
      },
      "execution_count": 14,
      "outputs": [
        {
          "output_type": "stream",
          "name": "stdout",
          "text": [
            "Appended items in a reverse order:\n",
            "3 2 1 \n",
            "Number of items: 3\n",
            "\n",
            "New item inserted:\n",
            "3 2 1 0 \n",
            "Number of items: 4\n"
          ]
        }
      ]
    }
  ]
}
