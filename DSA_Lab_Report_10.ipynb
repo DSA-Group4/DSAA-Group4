{
  "nbformat": 4,
  "nbformat_minor": 0,
  "metadata": {
    "colab": {
      "provenance": []
    },
    "kernelspec": {
      "name": "python3",
      "display_name": "Python 3"
    },
    "language_info": {
      "name": "python"
    }
  },
  "cells": [
    {
      "cell_type": "code",
      "source": [
        "class BinaryTreeNode:\n",
        "    def __init__(self, value):\n",
        "        self.value = value\n",
        "        self.left = None\n",
        "        self.right = None\n",
        "        self.pre_order = None\n",
        "        self.in_order = None\n",
        "        self.post_order = None\n",
        "\n",
        "class BinaryTree:\n",
        "    def __init__(self, root):\n",
        "        self.root = BinaryTreeNode(root)\n",
        "\n",
        "    def preOrderNumber(self, node, num=1):\n",
        "        if node:\n",
        "            node.pre_order = num\n",
        "            num = self.preOrderNumber(node.left, num + 1)\n",
        "            num = self.preOrderNumber(node.right, num)\n",
        "        return num\n",
        "\n",
        "    def inOrderNumber(self, node, num=1):\n",
        "        if node:\n",
        "            num = self.inOrderNumber(node.left, num)\n",
        "            node.in_order = num\n",
        "            num += 1\n",
        "            num = self.inOrderNumber(node.right, num)\n",
        "        return num\n",
        "\n",
        "    def postOrderNumber(self, node, num=1):\n",
        "        if node:\n",
        "            num = self.postOrderNumber(node.left, num)\n",
        "            num = self.postOrderNumber(node.right, num)\n",
        "            node.post_order = num\n",
        "            num += 1\n",
        "        return num\n",
        "\n",
        "tree = BinaryTree(1)\n",
        "tree.root.left = BinaryTreeNode(2)\n",
        "tree.root.right = BinaryTreeNode(3)\n",
        "tree.root.left.left = BinaryTreeNode(4)\n",
        "tree.root.left.right = BinaryTreeNode(5)\n",
        "tree.root.right.left = BinaryTreeNode(6)\n",
        "tree.root.right.right = BinaryTreeNode(7)\n",
        "\n",
        "tree.preOrderNumber(tree.root)\n",
        "tree.inOrderNumber(tree.root)\n",
        "tree.postOrderNumber(tree.root)\n",
        "\n",
        "def print_tree_numbers(node):\n",
        "    if node:\n",
        "        print(f\"Node: {node.value}, Pre-order: {node.pre_order}, In-order: {node.in_order}, Post-order: {node.post_order}\")\n",
        "        print_tree_numbers(node.left)\n",
        "        print_tree_numbers(node.right)\n",
        "\n",
        "print_tree_numbers(tree.root)"
      ],
      "metadata": {
        "colab": {
          "base_uri": "https://localhost:8080/"
        },
        "id": "ZiVpxls6P4_X",
        "outputId": "2a959d99-2c92-4792-9d8d-dfa3a82e4c2a"
      },
      "execution_count": 4,
      "outputs": [
        {
          "output_type": "stream",
          "name": "stdout",
          "text": [
            "Node: 1, Pre-order: 1, In-order: 4, Post-order: 7\n",
            "Node: 2, Pre-order: 2, In-order: 2, Post-order: 3\n",
            "Node: 4, Pre-order: 3, In-order: 1, Post-order: 1\n",
            "Node: 5, Pre-order: 4, In-order: 3, Post-order: 2\n",
            "Node: 3, Pre-order: 5, In-order: 6, Post-order: 6\n",
            "Node: 6, Pre-order: 6, In-order: 5, Post-order: 4\n",
            "Node: 7, Pre-order: 7, In-order: 7, Post-order: 5\n"
          ]
        }
      ]
    }
  ]
}