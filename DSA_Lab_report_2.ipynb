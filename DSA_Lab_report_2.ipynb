{
  "nbformat": 4,
  "nbformat_minor": 0,
  "metadata": {
    "colab": {
      "provenance": []
    },
    "kernelspec": {
      "name": "python3",
      "display_name": "Python 3"
    },
    "language_info": {
      "name": "python"
    }
  },
  "cells": [
    {
      "cell_type": "code",
      "source": [
        "def minmax(a, b):\n",
        "  if a <= b:\n",
        "    return a, b\n",
        "  else:\n",
        "    return b, a\n",
        "\n",
        "def minmaxseq(arr, n):\n",
        "  if n == 1:\n",
        "    return arr[0], arr[0]\n",
        "  a, b = minmaxseq(arr, n-1)\n",
        "  return minmax(a, arr[n-1])\n",
        "\n",
        "arr = [10, 40, 20, 50, 30]\n",
        "n = len(arr)\n",
        "print(\"The minimum and maximum values are\", minmaxseq(arr, n))"
      ],
      "metadata": {
        "colab": {
          "base_uri": "https://localhost:8080/"
        },
        "id": "SWPrPTfKKo-M",
        "outputId": "ba31f0a2-1b1e-429b-ec69-5d45125c1f1d"
      },
      "execution_count": 6,
      "outputs": [
        {
          "output_type": "stream",
          "name": "stdout",
          "text": [
            "The minimum and maximum values are (10, 30)\n"
          ]
        }
      ]
    }
  ]
}